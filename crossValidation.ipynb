{
 "cells": [
  {
   "cell_type": "code",
   "execution_count": 1,
   "metadata": {},
   "outputs": [],
   "source": [
    "import pandas as pd\n",
    "import numpy as np\n",
    "import csv\n",
    "import random as rnd\n",
    "from sklearn.model_selection import train_test_split\n",
    "import matplotlib.pyplot as plt\n",
    "from sklearn import preprocessing\n",
    "%matplotlib inline"
   ]
  },
  {
   "cell_type": "code",
   "execution_count": 2,
   "metadata": {},
   "outputs": [],
   "source": [
    "df = pd.read_csv('https://raw.githubusercontent.com/ClaseML-2017/MaterialyTareas/master/datos/regLinPoli2.csv',delimiter=',') # Leer el archivo"
   ]
  },
  {
   "cell_type": "code",
   "execution_count": 3,
   "metadata": {},
   "outputs": [
    {
     "name": "stderr",
     "output_type": "stream",
     "text": [
      "/Users/apple/Desktop/MachineLearning/venvPrueba/lib/python2.7/site-packages/sklearn/model_selection/_split.py:2026: FutureWarning: From version 0.21, test_size will always complement train_size unless both are specified.\n",
      "  FutureWarning)\n"
     ]
    }
   ],
   "source": [
    "X_train, X_test, Y_train, Y_test = train_test_split(df[df.columns[0:-1]],df[[df.columns[-1]]], train_size=0.75)"
   ]
  },
  {
   "cell_type": "code",
   "execution_count": 4,
   "metadata": {},
   "outputs": [],
   "source": [
    "X_train=np.asarray(X_train)\n",
    "X_test=np.asarray(X_test)\n",
    "Y_train=np.asarray(Y_train)\n",
    "Y_test=np.asarray(Y_test)"
   ]
  },
  {
   "cell_type": "code",
   "execution_count": 5,
   "metadata": {},
   "outputs": [],
   "source": [
    "# This procedure is useful for classroom examples. For a real implementation you have to have a separete method \n",
    "# for transforming the production data so you can transform it as you get it with the fitted scaler\n",
    "## The procedure returns a standardized copy of the input data\n",
    "def normalize(X_train,X_test,Y_train,Y_test,do=True):\n",
    "\n",
    "    scale_X=preprocessing.StandardScaler()\n",
    "    scale_y=preprocessing.StandardScaler()\n",
    "    \n",
    "    train_X=np.copy(X_train)\n",
    "    train_y=np.copy(Y_train)\n",
    "    test_X=np.copy(X_test)\n",
    "    test_y=np.copy(Y_test)\n",
    "    if do:\n",
    "        scale_X.fit(train_X)\n",
    "        scale_y.fit(train_y)\n",
    "        train_X=scale_X.transform(train_X)\n",
    "        train_y=scale_y.transform(train_y)\n",
    "        test_X=scale_X.transform(test_X)\n",
    "        test_y=scale_y.transform(test_y)\n",
    "    return train_X,test_X, train_y, test_y"
   ]
  },
  {
   "cell_type": "code",
   "execution_count": 6,
   "metadata": {},
   "outputs": [],
   "source": [
    "## Transfer function\n",
    "def salida(w,X):\n",
    "    return X.dot(w[1:]) +w[0]\n"
   ]
  },
  {
   "cell_type": "code",
   "execution_count": 7,
   "metadata": {},
   "outputs": [],
   "source": [
    "## Training function\n",
    "def entrena(X,y,w,la=0.0,eta=0.01):\n",
    "    \n",
    "    for i in range(len(X)):\n",
    "        error=y[i]-salida(w,X[i])\n",
    "        w[0]=w[0]+eta*(error)\n",
    "        w[1:]=w[1:]+eta*(error*X[i])-la*w[1:]\n",
    "    return w\n"
   ]
  },
  {
   "cell_type": "code",
   "execution_count": 8,
   "metadata": {},
   "outputs": [],
   "source": [
    "def calcError(X,y,w,w0):\n",
    "    return np.mean((X.dot(w)+w0-y)**2)"
   ]
  },
  {
   "cell_type": "code",
   "execution_count": 9,
   "metadata": {},
   "outputs": [],
   "source": [
    "train_X,test_X,train_y,test_y=normalize(X_train,X_test,Y_train,Y_test)"
   ]
  },
  {
   "cell_type": "code",
   "execution_count": 12,
   "metadata": {},
   "outputs": [
    {
     "name": "stdout",
     "output_type": "stream",
     "text": [
      "\n",
      " Error algoritmo usual\n",
      "Error ENTRENAMIENTO: 0.595367240888\n",
      "Error VALIDACIÓN: 0.660471661072\n"
     ]
    }
   ],
   "source": [
    "lai = 0.0\n",
    "iteraciones = 100\n",
    "errores = np.zeros((iteraciones,3))\n",
    "for c in range(0,iteraciones):\n",
    "    \n",
    "    div = 5\n",
    "    nt = len(X_train)\n",
    "    lenDiv = nt/5\n",
    "    err = np.zeros((div,2))\n",
    "    for i in range(0, div):\n",
    "        #Dividir los datos\n",
    "        testi = range(i*lenDiv, (i+1)*lenDiv)\n",
    "        traini = np.append(np.arange(0, i*lenDiv),np.arange((i+1)*lenDiv,nt))\n",
    "        trainx,testx,trainy,testy=normalize(X_train[traini],X_train[testi],Y_train[traini],Y_train[testi])\n",
    "        w=np.asarray([rnd.random() for k in range(1+len(trainx[0]))])\n",
    "        for j in range(100):\n",
    "            w=entrena(trainx,trainy,w,la=lai)\n",
    "\n",
    "        eE = calcError(trainx,trainy.flatten(),w[1:],w[0])\n",
    "        eV = calcError(testx,testy.flatten(),w[1:],w[0])\n",
    "        err[i] = [eE,eV]\n",
    "\n",
    "    #print \"\\n Error Cross-validation\"\n",
    "    eE = np.mean(err[:,0])\n",
    "    eV = np.mean(err[:,1])\n",
    "    #print \"Error promedio de ENTRENAMIENTO:\",eE\n",
    "    #print \"Error promedio de VALIDACIÓN:\",eV\n",
    "    eVN = np.mean(calcError(test_X,test_y.flatten(),w[1:],w[0]))\n",
    "    #print \"Error promedio SET DE VALIDACIÓN GENERAL:\",eVN\n",
    "    \n",
    "    errores[c] = [eE,eV,eVN]\n",
    "    lai = lai + .01\n",
    "\n",
    "\n",
    "print \"\\n Error algoritmo usual\"\n",
    "w=np.asarray([rnd.random() for i in range(1+len(train_X[0]))])\n",
    "for i in range(100):\n",
    "    w=entrena(train_X,train_y,w,la=0.00)\n",
    "    \n",
    "print \"Error ENTRENAMIENTO:\",calcError(train_X,train_y.flatten(),w[1:],w[0])\n",
    "print \"Error VALIDACIÓN:\",calcError(test_X,test_y.flatten(),w[1:],w[0])"
   ]
  },
  {
   "cell_type": "code",
   "execution_count": 13,
   "metadata": {
    "scrolled": true
   },
   "outputs": [
    {
     "data": {
      "image/png": "[encoded data removed]",
      "text/plain": [
       "<matplotlib.figure.Figure at 0x10a002350>"
      ]
     },
     "metadata": {},
     "output_type": "display_data"
    }
   ],
   "source": [
    "plt.plot(np.linspace(0.0,1.0, num=100), errores)\n",
    "plt.xlabel(\"Lambda\")\n",
    "plt.ylabel(\"Error medio\")\n",
    "plt.legend(['Error cvTrain', 'Error cvTest', 'Error Test'])\n",
    "plt.show()"
   ]
  },
  {
   "cell_type": "code",
   "execution_count": null,
   "metadata": {},
   "outputs": [],
   "source": []
  }
 ],
 "metadata": {
  "anaconda-cloud": {},
  "kernelspec": {
   "display_name": "Python 2",
   "language": "python",
   "name": "python2"
  },
  "language_info": {
   "codemirror_mode": {
    "name": "ipython",
    "version": 2
   },
   "file_extension": ".py",
   "mimetype": "text/x-python",
   "name": "python",
   "nbconvert_exporter": "python",
   "pygments_lexer": "ipython2",
   "version": "2.7.10"
  }
 },
 "nbformat": 4,
 "nbformat_minor": 2
}
